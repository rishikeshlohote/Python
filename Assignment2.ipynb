{
 "cells": [
  {
   "cell_type": "code",
   "execution_count": 14,
   "metadata": {},
   "outputs": [
    {
     "name": "stdout",
     "output_type": "stream",
     "text": [
      "The original list is : [1, 2, [], 3, ['Ten', 'Hundered'], 4, [], 'Five', []]\n",
      "The list after removal of empty list is : [1, 2, 3, ['Ten', 'Hundered'], 4, 'Five']\n"
     ]
    }
   ],
   "source": [
    "#Question 1\n",
    "#Write a Python program to remove empty List from List.\n",
    "\n",
    "input_list = [1,2,[],3,['Ten','Hundered'],4,[],'Five',[]]\n",
    "print(\"The original list is : \" + str(input_list))\n",
    "\n",
    "#Removing empty list from list\n",
    "\n",
    "new_list = list(filter(None, input_list))\n",
    "print(\"The list after removal of empty list is : \" + str(new_list))"
   ]
  },
  {
   "cell_type": "code",
   "execution_count": 37,
   "metadata": {},
   "outputs": [
    {
     "name": "stdout",
     "output_type": "stream",
     "text": [
      "is Python great and Ruby also\n"
     ]
    }
   ],
   "source": [
    "#Question 2\n",
    "#Write a Python program to remove all duplicates words from a given sentence\n",
    "s = \"is Python is great and Ruby is also great\"\n",
    "l = s.split() \n",
    "k = [] \n",
    "for i in l: \n",
    "  \n",
    "    # If condition is used to store unique string  \n",
    "    # in another list 'k'  \n",
    "    if (s.count(i)>1 and (i not in k)or s.count(i)==1): \n",
    "        k.append(i) \n",
    "print(' '.join(k)) "
   ]
  },
  {
   "cell_type": "code",
   "execution_count": 41,
   "metadata": {},
   "outputs": [
    {
     "name": "stdout",
     "output_type": "stream",
     "text": [
      "Enter a string: Python\n",
      "Enter the character of which you want to find the occurance: P\n",
      "Input String:\n",
      " Python\n",
      "Input Character:\n",
      " P\n",
      "Number of time character is present in string:\n",
      " 1\n"
     ]
    }
   ],
   "source": [
    "#Question 3\n",
    "#Write a Python program to find all occurrences of a character in the given string\n",
    "from collections import Counter\n",
    "input_string = (input(\"Enter a string: \"))  \n",
    "character = (input(\"Enter the character of which you want to find the occurance: \"))\n",
    "\n",
    "# Given String and Character\n",
    "print(\"Input String:\\n\", input_string)\n",
    "print(\"Input Character:\\n\",character)\n",
    "count = Counter(input_string)\n",
    "print(\"Number of time character is present in string:\\n\",count[character])"
   ]
  }
 ],
 "metadata": {
  "kernelspec": {
   "display_name": "Python 3",
   "language": "python",
   "name": "python3"
  },
  "language_info": {
   "codemirror_mode": {
    "name": "ipython",
    "version": 3
   },
   "file_extension": ".py",
   "mimetype": "text/x-python",
   "name": "python",
   "nbconvert_exporter": "python",
   "pygments_lexer": "ipython3",
   "version": "3.8.5"
  }
 },
 "nbformat": 4,
 "nbformat_minor": 4
}
